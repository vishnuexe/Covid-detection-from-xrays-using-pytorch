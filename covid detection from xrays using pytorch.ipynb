{
  "nbformat": 4,
  "nbformat_minor": 0,
  "metadata": {
    "kernelspec": {
      "display_name": "Python 3",
      "language": "python",
      "name": "python3"
    },
    "language_info": {
      "codemirror_mode": {
        "name": "ipython",
        "version": 3
      },
      "file_extension": ".py",
      "mimetype": "text/x-python",
      "name": "python",
      "nbconvert_exporter": "python",
      "pygments_lexer": "ipython3",
      "version": "3.6.9"
    },
    "colab": {
      "name": "Learner Notebook.ipynb",
      "provenance": []
    },
    "widgets": {
      "application/vnd.jupyter.widget-state+json": {
        "1752bef873104c43ac8a6b76066b4672": {
          "model_module": "@jupyter-widgets/controls",
          "model_name": "HBoxModel",
          "state": {
            "_view_name": "HBoxView",
            "_dom_classes": [],
            "_model_name": "HBoxModel",
            "_view_module": "@jupyter-widgets/controls",
            "_model_module_version": "1.5.0",
            "_view_count": null,
            "_view_module_version": "1.5.0",
            "box_style": "",
            "layout": "IPY_MODEL_634a64670c524ffaa3fbac9de01c4dce",
            "_model_module": "@jupyter-widgets/controls",
            "children": [
              "IPY_MODEL_7084facb548c438bbf02ca780cd53d56",
              "IPY_MODEL_888b6a899796400eb6fca6bda9a7c5d7"
            ]
          }
        },
        "634a64670c524ffaa3fbac9de01c4dce": {
          "model_module": "@jupyter-widgets/base",
          "model_name": "LayoutModel",
          "state": {
            "_view_name": "LayoutView",
            "grid_template_rows": null,
            "right": null,
            "justify_content": null,
            "_view_module": "@jupyter-widgets/base",
            "overflow": null,
            "_model_module_version": "1.2.0",
            "_view_count": null,
            "flex_flow": null,
            "width": null,
            "min_width": null,
            "border": null,
            "align_items": null,
            "bottom": null,
            "_model_module": "@jupyter-widgets/base",
            "top": null,
            "grid_column": null,
            "overflow_y": null,
            "overflow_x": null,
            "grid_auto_flow": null,
            "grid_area": null,
            "grid_template_columns": null,
            "flex": null,
            "_model_name": "LayoutModel",
            "justify_items": null,
            "grid_row": null,
            "max_height": null,
            "align_content": null,
            "visibility": null,
            "align_self": null,
            "height": null,
            "min_height": null,
            "padding": null,
            "grid_auto_rows": null,
            "grid_gap": null,
            "max_width": null,
            "order": null,
            "_view_module_version": "1.2.0",
            "grid_template_areas": null,
            "object_position": null,
            "object_fit": null,
            "grid_auto_columns": null,
            "margin": null,
            "display": null,
            "left": null
          }
        },
        "7084facb548c438bbf02ca780cd53d56": {
          "model_module": "@jupyter-widgets/controls",
          "model_name": "FloatProgressModel",
          "state": {
            "_view_name": "ProgressView",
            "style": "IPY_MODEL_282b390f46f545089e728c8d3129c231",
            "_dom_classes": [],
            "description": "100%",
            "_model_name": "FloatProgressModel",
            "bar_style": "success",
            "max": 46827520,
            "_view_module": "@jupyter-widgets/controls",
            "_model_module_version": "1.5.0",
            "value": 46827520,
            "_view_count": null,
            "_view_module_version": "1.5.0",
            "orientation": "horizontal",
            "min": 0,
            "description_tooltip": null,
            "_model_module": "@jupyter-widgets/controls",
            "layout": "IPY_MODEL_1cab505673af458dbc844f9009fa53c9"
          }
        },
        "888b6a899796400eb6fca6bda9a7c5d7": {
          "model_module": "@jupyter-widgets/controls",
          "model_name": "HTMLModel",
          "state": {
            "_view_name": "HTMLView",
            "style": "IPY_MODEL_bb8afd3c281a430db19b280a6ca4c9da",
            "_dom_classes": [],
            "description": "",
            "_model_name": "HTMLModel",
            "placeholder": "​",
            "_view_module": "@jupyter-widgets/controls",
            "_model_module_version": "1.5.0",
            "value": " 44.7M/44.7M [07:38&lt;00:00, 102kB/s]",
            "_view_count": null,
            "_view_module_version": "1.5.0",
            "description_tooltip": null,
            "_model_module": "@jupyter-widgets/controls",
            "layout": "IPY_MODEL_706e70da9bd94bcdb88a5ce4bc240c84"
          }
        },
        "282b390f46f545089e728c8d3129c231": {
          "model_module": "@jupyter-widgets/controls",
          "model_name": "ProgressStyleModel",
          "state": {
            "_view_name": "StyleView",
            "_model_name": "ProgressStyleModel",
            "description_width": "initial",
            "_view_module": "@jupyter-widgets/base",
            "_model_module_version": "1.5.0",
            "_view_count": null,
            "_view_module_version": "1.2.0",
            "bar_color": null,
            "_model_module": "@jupyter-widgets/controls"
          }
        },
        "1cab505673af458dbc844f9009fa53c9": {
          "model_module": "@jupyter-widgets/base",
          "model_name": "LayoutModel",
          "state": {
            "_view_name": "LayoutView",
            "grid_template_rows": null,
            "right": null,
            "justify_content": null,
            "_view_module": "@jupyter-widgets/base",
            "overflow": null,
            "_model_module_version": "1.2.0",
            "_view_count": null,
            "flex_flow": null,
            "width": null,
            "min_width": null,
            "border": null,
            "align_items": null,
            "bottom": null,
            "_model_module": "@jupyter-widgets/base",
            "top": null,
            "grid_column": null,
            "overflow_y": null,
            "overflow_x": null,
            "grid_auto_flow": null,
            "grid_area": null,
            "grid_template_columns": null,
            "flex": null,
            "_model_name": "LayoutModel",
            "justify_items": null,
            "grid_row": null,
            "max_height": null,
            "align_content": null,
            "visibility": null,
            "align_self": null,
            "height": null,
            "min_height": null,
            "padding": null,
            "grid_auto_rows": null,
            "grid_gap": null,
            "max_width": null,
            "order": null,
            "_view_module_version": "1.2.0",
            "grid_template_areas": null,
            "object_position": null,
            "object_fit": null,
            "grid_auto_columns": null,
            "margin": null,
            "display": null,
            "left": null
          }
        },
        "bb8afd3c281a430db19b280a6ca4c9da": {
          "model_module": "@jupyter-widgets/controls",
          "model_name": "DescriptionStyleModel",
          "state": {
            "_view_name": "StyleView",
            "_model_name": "DescriptionStyleModel",
            "description_width": "",
            "_view_module": "@jupyter-widgets/base",
            "_model_module_version": "1.5.0",
            "_view_count": null,
            "_view_module_version": "1.2.0",
            "_model_module": "@jupyter-widgets/controls"
          }
        },
        "706e70da9bd94bcdb88a5ce4bc240c84": {
          "model_module": "@jupyter-widgets/base",
          "model_name": "LayoutModel",
          "state": {
            "_view_name": "LayoutView",
            "grid_template_rows": null,
            "right": null,
            "justify_content": null,
            "_view_module": "@jupyter-widgets/base",
            "overflow": null,
            "_model_module_version": "1.2.0",
            "_view_count": null,
            "flex_flow": null,
            "width": null,
            "min_width": null,
            "border": null,
            "align_items": null,
            "bottom": null,
            "_model_module": "@jupyter-widgets/base",
            "top": null,
            "grid_column": null,
            "overflow_y": null,
            "overflow_x": null,
            "grid_auto_flow": null,
            "grid_area": null,
            "grid_template_columns": null,
            "flex": null,
            "_model_name": "LayoutModel",
            "justify_items": null,
            "grid_row": null,
            "max_height": null,
            "align_content": null,
            "visibility": null,
            "align_self": null,
            "height": null,
            "min_height": null,
            "padding": null,
            "grid_auto_rows": null,
            "grid_gap": null,
            "max_width": null,
            "order": null,
            "_view_module_version": "1.2.0",
            "grid_template_areas": null,
            "object_position": null,
            "object_fit": null,
            "grid_auto_columns": null,
            "margin": null,
            "display": null,
            "left": null
          }
        }
      }
    }
  },
  "cells": [
    {
      "cell_type": "markdown",
      "metadata": {
        "id": "tAodLr18yboM",
        "colab_type": "text"
      },
      "source": [
        "# Detecting COVID-19 with Chest X Ray using PyTorch\n",
        "\n",
        "Image classification of Chest X Rays in one of three classes: Normal, Viral Pneumonia, COVID-19\n",
        "\n",
        "Notebook created for the guided project [Detecting COVID-19 with Chest X Ray using PyTorch](https://www.coursera.org/projects/covid-19-detection-x-ray) on Coursera\n",
        "\n",
        "Dataset from [COVID-19 Radiography Dataset](https://www.kaggle.com/tawsifurrahman/covid19-radiography-database) on Kaggle"
      ]
    },
    {
      "cell_type": "markdown",
      "metadata": {
        "id": "nesOqyznyboO",
        "colab_type": "text"
      },
      "source": [
        "# Importing Libraries"
      ]
    },
    {
      "cell_type": "code",
      "metadata": {
        "id": "XyzYDa4wyc8D",
        "colab_type": "code",
        "colab": {}
      },
      "source": [
        ""
      ],
      "execution_count": null,
      "outputs": []
    },
    {
      "cell_type": "code",
      "metadata": {
        "id": "aXdG64MoyfM7",
        "colab_type": "code",
        "colab": {
          "base_uri": "https://localhost:8080/",
          "height": 128
        },
        "outputId": "2e7c7593-724c-4ebf-bfc0-2d09802c4cd8"
      },
      "source": [
        "from google.colab import drive\n",
        "drive.mount('/content/drive')"
      ],
      "execution_count": null,
      "outputs": [
        {
          "output_type": "stream",
          "text": [
            "Go to this URL in a browser: https://accounts.google.com/o/oauth2/auth?client_id=947318989803-6bn6qk8qdgf4n4g3pfee6491hc0brc4i.apps.googleusercontent.com&redirect_uri=urn%3aietf%3awg%3aoauth%3a2.0%3aoob&scope=email%20https%3a%2f%2fwww.googleapis.com%2fauth%2fdocs.test%20https%3a%2f%2fwww.googleapis.com%2fauth%2fdrive%20https%3a%2f%2fwww.googleapis.com%2fauth%2fdrive.photos.readonly%20https%3a%2f%2fwww.googleapis.com%2fauth%2fpeopleapi.readonly&response_type=code\n",
            "\n",
            "Enter your authorization code:\n",
            "··········\n",
            "Mounted at /content/drive\n"
          ],
          "name": "stdout"
        }
      ]
    },
    {
      "cell_type": "code",
      "metadata": {
        "id": "dqaqiiA0yz4N",
        "colab_type": "code",
        "colab": {
          "base_uri": "https://localhost:8080/",
          "height": 35
        },
        "outputId": "3b652f89-7f0a-476a-f264-b336f657d2c5"
      },
      "source": [
        "%cd '/content/drive/My Drive/covid'"
      ],
      "execution_count": null,
      "outputs": [
        {
          "output_type": "stream",
          "text": [
            "/content/drive/My Drive/covid\n"
          ],
          "name": "stdout"
        }
      ]
    },
    {
      "cell_type": "code",
      "metadata": {
        "id": "u6Sq6bkhz1xe",
        "colab_type": "code",
        "colab": {}
      },
      "source": [
        "import os\n",
        "os.environ['KAGGLE_CONFIG_DIR'] = '/content/drive/My Drive/covid'"
      ],
      "execution_count": null,
      "outputs": []
    },
    {
      "cell_type": "code",
      "metadata": {
        "id": "3ch-pehB0DLN",
        "colab_type": "code",
        "colab": {
          "base_uri": "https://localhost:8080/",
          "height": 72
        },
        "outputId": "1796a075-d7e0-413a-fb3c-c8af7271a245"
      },
      "source": [
        "!kaggle datasets download -d tawsifurrahman/covid19-radiography-database"
      ],
      "execution_count": null,
      "outputs": [
        {
          "output_type": "stream",
          "text": [
            "Downloading covid19-radiography-database.zip to /content/drive/My Drive/covid\n",
            "100% 1.15G/1.15G [00:13<00:00, 54.5MB/s]\n",
            "100% 1.15G/1.15G [00:13<00:00, 88.9MB/s]\n"
          ],
          "name": "stdout"
        }
      ]
    },
    {
      "cell_type": "code",
      "metadata": {
        "id": "2Y2DeXyZ0TdE",
        "colab_type": "code",
        "colab": {}
      },
      "source": [
        "!unzip covid19-radiography-database.zip"
      ],
      "execution_count": null,
      "outputs": []
    },
    {
      "cell_type": "code",
      "metadata": {
        "id": "4056D5QLyboP",
        "colab_type": "code",
        "colab": {
          "base_uri": "https://localhost:8080/",
          "height": 35
        },
        "outputId": "571dfdbe-11c4-436b-8d39-9a831cf4e88f"
      },
      "source": [
        "%matplotlib inline\n",
        "\n",
        "import os\n",
        "import shutil\n",
        "import random\n",
        "import torch\n",
        "import torchvision\n",
        "import numpy as np\n",
        "\n",
        "from PIL import Image\n",
        "from matplotlib import pyplot as plt\n",
        "\n",
        "torch.manual_seed(0)\n",
        "\n",
        "print('Using PyTorch version', torch.__version__)"
      ],
      "execution_count": null,
      "outputs": [
        {
          "output_type": "stream",
          "text": [
            "Using PyTorch version 1.6.0+cu101\n"
          ],
          "name": "stdout"
        }
      ]
    },
    {
      "cell_type": "markdown",
      "metadata": {
        "id": "YhMN-8BgyboZ",
        "colab_type": "text"
      },
      "source": [
        "# Preparing Training and Test Sets"
      ]
    },
    {
      "cell_type": "code",
      "metadata": {
        "id": "UO_eDCAXyboa",
        "colab_type": "code",
        "colab": {}
      },
      "source": [
        "class_names = ['normal', 'viral', 'covid']\n",
        "root_dir = 'COVID-19 Radiography Database'\n",
        "source_dirs = ['NORMAL', 'Viral Pneumonia', 'COVID-19']\n",
        "\n",
        "if os.path.isdir(os.path.join(root_dir, source_dirs[1])):\n",
        "    os.mkdir(os.path.join(root_dir, 'test'))\n",
        "\n",
        "    for i, d in enumerate(source_dirs):\n",
        "        os.rename(os.path.join(root_dir, d), os.path.join(root_dir, class_names[i]))\n",
        "\n",
        "    for c in class_names:\n",
        "        os.mkdir(os.path.join(root_dir, 'test', c))\n",
        "\n",
        "    for c in class_names:\n",
        "        images = [x for x in os.listdir(os.path.join(root_dir, c)) if x.lower().endswith('png')]\n",
        "        selected_images = random.sample(images, 30)\n",
        "        for image in selected_images:\n",
        "            source_path = os.path.join(root_dir, c, image)\n",
        "            target_path = os.path.join(root_dir, 'test', c, image)\n",
        "            shutil.move(source_path, target_path)"
      ],
      "execution_count": null,
      "outputs": []
    },
    {
      "cell_type": "markdown",
      "metadata": {
        "id": "vn1H0lG_ybof",
        "colab_type": "text"
      },
      "source": [
        "# Creating Custom Dataset"
      ]
    },
    {
      "cell_type": "code",
      "metadata": {
        "id": "Ou4ZBJRlybog",
        "colab_type": "code",
        "colab": {}
      },
      "source": [
        "class ChestXRayDataset(torch.utils.data.Dataset):\n",
        "  def __init__(self, image_dirs, transform):\n",
        "    def get_images(class_name):\n",
        "      images = [x for x in os.listdir(image_dirs[class_name]) if x.lower().endswith('png')]\n",
        "      print(f'Found {len(images)} {class_name} examples')\n",
        "      return images\n",
        "\n",
        "    self.images = {}\n",
        "    self.class_names = ['normal', 'viral', 'covid']\n",
        "\n",
        "    for c in self.class_names:\n",
        "      self.images[c] = get_images(c)\n",
        "\n",
        "    self.image_dirs = image_dirs\n",
        "    self.transform = transform\n",
        "\n",
        "  def __len__(self):\n",
        "    return sum([len(self.images[c]) for c in self.class_names])\n",
        "\n",
        "  def __getitem__(self, index):\n",
        "    class_name = random.choice(self.class_names)\n",
        "    index = index % len(self.images[class_name])\n",
        "    image_name = self.images[class_name][index]\n",
        "    image_path = os.path.join(self.image_dirs[class_name], image_name)\n",
        "    image = Image.open(image_path).convert('RGB')\n",
        "    return self.transform(image), self.class_names.index(class_name)"
      ],
      "execution_count": null,
      "outputs": []
    },
    {
      "cell_type": "markdown",
      "metadata": {
        "id": "B8Ch6T4eybok",
        "colab_type": "text"
      },
      "source": [
        "# Image Transformations"
      ]
    },
    {
      "cell_type": "code",
      "metadata": {
        "id": "9sngC0l6ybol",
        "colab_type": "code",
        "colab": {}
      },
      "source": [
        "train_transform = torchvision.transforms.Compose([torchvision.transforms.Resize(size=(224, 224)),\n",
        "                                                  torchvision.transforms.RandomHorizontalFlip(),\n",
        "                                                  torchvision.transforms.ToTensor(),\n",
        "                                                  torchvision.transforms.Normalize(mean=[0.485, 0.456, 0.406],\n",
        "                                                                                   std=[0.229, 0.224, 0.225])\n",
        "                                                  ])\n",
        "\n",
        "test_transform = torchvision.transforms.Compose([torchvision.transforms.Resize(size=(224, 224)),\n",
        "                                                  torchvision.transforms.ToTensor(),\n",
        "                                                  torchvision.transforms.Normalize(mean=[0.485, 0.456, 0.406],\n",
        "                                                                                   std=[0.229, 0.224, 0.225])\n",
        "                                                  ])"
      ],
      "execution_count": null,
      "outputs": []
    },
    {
      "cell_type": "markdown",
      "metadata": {
        "id": "ChU9zhH7yboq",
        "colab_type": "text"
      },
      "source": [
        "# Prepare DataLoader"
      ]
    },
    {
      "cell_type": "code",
      "metadata": {
        "id": "-_WZLYoeybor",
        "colab_type": "code",
        "colab": {
          "base_uri": "https://localhost:8080/",
          "height": 72
        },
        "outputId": "1a3d24fa-b5ed-469d-bc9d-0725daa3c2a1"
      },
      "source": [
        "train_dirs = {\n",
        "    'normal': 'COVID-19 Radiography Database/normal',\n",
        "    'viral': 'COVID-19 Radiography Database/viral',\n",
        "    'covid': 'COVID-19 Radiography Database/covid'\n",
        "}\n",
        "\n",
        "train_dataset = ChestXRayDataset(train_dirs, train_transform)"
      ],
      "execution_count": null,
      "outputs": [
        {
          "output_type": "stream",
          "text": [
            "Found 1311 normal examples\n",
            "Found 1315 viral examples\n",
            "Found 189 covid examples\n"
          ],
          "name": "stdout"
        }
      ]
    },
    {
      "cell_type": "code",
      "metadata": {
        "id": "rvhlxlU5ybow",
        "colab_type": "code",
        "colab": {
          "base_uri": "https://localhost:8080/",
          "height": 72
        },
        "outputId": "f952e243-b0c6-40b2-d139-8d9789d91290"
      },
      "source": [
        "test_dirs = {\n",
        "    'normal': 'COVID-19 Radiography Database/test/normal',\n",
        "    'viral': 'COVID-19 Radiography Database/test/viral',\n",
        "    'covid': 'COVID-19 Radiography Database/test/covid'\n",
        "}\n",
        "\n",
        "test_dataset = ChestXRayDataset(test_dirs, test_transform)"
      ],
      "execution_count": null,
      "outputs": [
        {
          "output_type": "stream",
          "text": [
            "Found 30 normal examples\n",
            "Found 30 viral examples\n",
            "Found 30 covid examples\n"
          ],
          "name": "stdout"
        }
      ]
    },
    {
      "cell_type": "code",
      "metadata": {
        "id": "4RrbsE3jyboz",
        "colab_type": "code",
        "colab": {
          "base_uri": "https://localhost:8080/",
          "height": 53
        },
        "outputId": "6ec6b44d-f6d5-4780-8c37-27334ffe8406"
      },
      "source": [
        "batch_size = 6\n",
        "\n",
        "dl_train = torch.utils.data.DataLoader(train_dataset, batch_size=batch_size,\n",
        "                                       shuffle=True)\n",
        "dl_test = torch.utils.data.DataLoader(test_dataset, batch_size=batch_size,\n",
        "                                      shuffle=True)\n",
        "\n",
        "print('Num of training batches', len(dl_train))\n",
        "print('Num of test batches', len(dl_test))"
      ],
      "execution_count": null,
      "outputs": [
        {
          "output_type": "stream",
          "text": [
            "Num of training batches 470\n",
            "Num of test batches 15\n"
          ],
          "name": "stdout"
        }
      ]
    },
    {
      "cell_type": "markdown",
      "metadata": {
        "id": "xi2YbFvoybo3",
        "colab_type": "text"
      },
      "source": [
        "# Data Visualization"
      ]
    },
    {
      "cell_type": "code",
      "metadata": {
        "id": "ycL-hbZ6ybo4",
        "colab_type": "code",
        "colab": {
          "base_uri": "https://localhost:8080/",
          "height": 35
        },
        "outputId": "0b1d5a65-0b25-41f6-e3e3-8ce0e5fcb7e8"
      },
      "source": [
        "class_names = train_dataset.class_names\n",
        "\n",
        "def show_images(images, labels, preds):\n",
        "  plt.figure(figsize=(8, 4))\n",
        "  for i, image in enumerate(images):\n",
        "    plt.subplot(1, 6, i + 1, xticks=[], yticks=[])\n",
        "    image = image.numpy().transpose((1, 2, 0))\n",
        "    mean = np.array([0.485, 0.456, 0.406])\n",
        "    std = np.array([0.229, 0.224, 0.225])\n",
        "    image = image * std + mean\n",
        "    image = np.clip(image, 0.,1.)\n",
        "    plt.imshow(image)\n",
        "\n",
        "    col = 'green' if preds[i] == labels[i] else 'red'\n",
        "\n",
        "    plt.xlabel(f'{class_names[int(labels[i].numpy())]}')\n",
        "    plt.ylabel(f'{class_names[int(preds[i].numpy())]}', color=col)\n",
        "plt.tight_layout()\n",
        "plt.show()"
      ],
      "execution_count": null,
      "outputs": [
        {
          "output_type": "display_data",
          "data": {
            "text/plain": [
              "<Figure size 432x288 with 0 Axes>"
            ]
          },
          "metadata": {
            "tags": []
          }
        }
      ]
    },
    {
      "cell_type": "code",
      "metadata": {
        "id": "cvOrHZNSybo8",
        "colab_type": "code",
        "colab": {
          "base_uri": "https://localhost:8080/",
          "height": 109
        },
        "outputId": "85a0b67d-76a7-4dd2-df98-568043e7a59a"
      },
      "source": [
        "images, labels = next(iter(dl_train))\n",
        "show_images(images, labels, labels)"
      ],
      "execution_count": null,
      "outputs": [
        {
          "output_type": "display_data",
          "data": {
            "image/png": "[encoded data removed]",
            "text/plain": [
              "<Figure size 576x288 with 6 Axes>"
            ]
          },
          "metadata": {
            "tags": []
          }
        }
      ]
    },
    {
      "cell_type": "code",
      "metadata": {
        "id": "jVg1SqIgybpA",
        "colab_type": "code",
        "colab": {
          "base_uri": "https://localhost:8080/",
          "height": 109
        },
        "outputId": "6c7f935c-9c42-4a68-c072-2d7035ef7823"
      },
      "source": [
        "images, labels = next(iter(dl_test))\n",
        "show_images(images, labels, labels)"
      ],
      "execution_count": null,
      "outputs": [
        {
          "output_type": "display_data",
          "data": {
            "image/png": "[encoded data removed]",
            "text/plain": [
              "<Figure size 576x288 with 6 Axes>"
            ]
          },
          "metadata": {
            "tags": []
          }
        }
      ]
    },
    {
      "cell_type": "markdown",
      "metadata": {
        "id": "S7mzhnXFybpD",
        "colab_type": "text"
      },
      "source": [
        "# Creating the Model"
      ]
    },
    {
      "cell_type": "code",
      "metadata": {
        "id": "-oNQ9ZRyybpD",
        "colab_type": "code",
        "colab": {
          "base_uri": "https://localhost:8080/",
          "height": 1000,
          "referenced_widgets": [
            "1752bef873104c43ac8a6b76066b4672",
            "634a64670c524ffaa3fbac9de01c4dce",
            "7084facb548c438bbf02ca780cd53d56",
            "888b6a899796400eb6fca6bda9a7c5d7",
            "282b390f46f545089e728c8d3129c231",
            "1cab505673af458dbc844f9009fa53c9",
            "bb8afd3c281a430db19b280a6ca4c9da",
            "706e70da9bd94bcdb88a5ce4bc240c84"
          ]
        },
        "outputId": "c3869f55-a273-444f-8322-c041d82497d6"
      },
      "source": [
        "resnet18 = torchvision.models.resnet18(pretrained=True)\n",
        "print(resnet18)"
      ],
      "execution_count": null,
      "outputs": [
        {
          "output_type": "stream",
          "text": [
            "Downloading: \"https://download.pytorch.org/models/resnet18-5c106cde.pth\" to /root/.cache/torch/hub/checkpoints/resnet18-5c106cde.pth\n"
          ],
          "name": "stderr"
        },
        {
          "output_type": "display_data",
          "data": {
            "application/vnd.jupyter.widget-view+json": {
              "model_id": "1752bef873104c43ac8a6b76066b4672",
              "version_minor": 0,
              "version_major": 2
            },
            "text/plain": [
              "HBox(children=(FloatProgress(value=0.0, max=46827520.0), HTML(value='')))"
            ]
          },
          "metadata": {
            "tags": []
          }
        },
        {
          "output_type": "stream",
          "text": [
            "\n",
            "ResNet(\n",
            "  (conv1): Conv2d(3, 64, kernel_size=(7, 7), stride=(2, 2), padding=(3, 3), bias=False)\n",
            "  (bn1): BatchNorm2d(64, eps=1e-05, momentum=0.1, affine=True, track_running_stats=True)\n",
            "  (relu): ReLU(inplace=True)\n",
            "  (maxpool): MaxPool2d(kernel_size=3, stride=2, padding=1, dilation=1, ceil_mode=False)\n",
            "  (layer1): Sequential(\n",
            "    (0): BasicBlock(\n",
            "      (conv1): Conv2d(64, 64, kernel_size=(3, 3), stride=(1, 1), padding=(1, 1), bias=False)\n",
            "      (bn1): BatchNorm2d(64, eps=1e-05, momentum=0.1, affine=True, track_running_stats=True)\n",
            "      (relu): ReLU(inplace=True)\n",
            "      (conv2): Conv2d(64, 64, kernel_size=(3, 3), stride=(1, 1), padding=(1, 1), bias=False)\n",
            "      (bn2): BatchNorm2d(64, eps=1e-05, momentum=0.1, affine=True, track_running_stats=True)\n",
            "    )\n",
            "    (1): BasicBlock(\n",
            "      (conv1): Conv2d(64, 64, kernel_size=(3, 3), stride=(1, 1), padding=(1, 1), bias=False)\n",
            "      (bn1): BatchNorm2d(64, eps=1e-05, momentum=0.1, affine=True, track_running_stats=True)\n",
            "      (relu): ReLU(inplace=True)\n",
            "      (conv2): Conv2d(64, 64, kernel_size=(3, 3), stride=(1, 1), padding=(1, 1), bias=False)\n",
            "      (bn2): BatchNorm2d(64, eps=1e-05, momentum=0.1, affine=True, track_running_stats=True)\n",
            "    )\n",
            "  )\n",
            "  (layer2): Sequential(\n",
            "    (0): BasicBlock(\n",
            "      (conv1): Conv2d(64, 128, kernel_size=(3, 3), stride=(2, 2), padding=(1, 1), bias=False)\n",
            "      (bn1): BatchNorm2d(128, eps=1e-05, momentum=0.1, affine=True, track_running_stats=True)\n",
            "      (relu): ReLU(inplace=True)\n",
            "      (conv2): Conv2d(128, 128, kernel_size=(3, 3), stride=(1, 1), padding=(1, 1), bias=False)\n",
            "      (bn2): BatchNorm2d(128, eps=1e-05, momentum=0.1, affine=True, track_running_stats=True)\n",
            "      (downsample): Sequential(\n",
            "        (0): Conv2d(64, 128, kernel_size=(1, 1), stride=(2, 2), bias=False)\n",
            "        (1): BatchNorm2d(128, eps=1e-05, momentum=0.1, affine=True, track_running_stats=True)\n",
            "      )\n",
            "    )\n",
            "    (1): BasicBlock(\n",
            "      (conv1): Conv2d(128, 128, kernel_size=(3, 3), stride=(1, 1), padding=(1, 1), bias=False)\n",
            "      (bn1): BatchNorm2d(128, eps=1e-05, momentum=0.1, affine=True, track_running_stats=True)\n",
            "      (relu): ReLU(inplace=True)\n",
            "      (conv2): Conv2d(128, 128, kernel_size=(3, 3), stride=(1, 1), padding=(1, 1), bias=False)\n",
            "      (bn2): BatchNorm2d(128, eps=1e-05, momentum=0.1, affine=True, track_running_stats=True)\n",
            "    )\n",
            "  )\n",
            "  (layer3): Sequential(\n",
            "    (0): BasicBlock(\n",
            "      (conv1): Conv2d(128, 256, kernel_size=(3, 3), stride=(2, 2), padding=(1, 1), bias=False)\n",
            "      (bn1): BatchNorm2d(256, eps=1e-05, momentum=0.1, affine=True, track_running_stats=True)\n",
            "      (relu): ReLU(inplace=True)\n",
            "      (conv2): Conv2d(256, 256, kernel_size=(3, 3), stride=(1, 1), padding=(1, 1), bias=False)\n",
            "      (bn2): BatchNorm2d(256, eps=1e-05, momentum=0.1, affine=True, track_running_stats=True)\n",
            "      (downsample): Sequential(\n",
            "        (0): Conv2d(128, 256, kernel_size=(1, 1), stride=(2, 2), bias=False)\n",
            "        (1): BatchNorm2d(256, eps=1e-05, momentum=0.1, affine=True, track_running_stats=True)\n",
            "      )\n",
            "    )\n",
            "    (1): BasicBlock(\n",
            "      (conv1): Conv2d(256, 256, kernel_size=(3, 3), stride=(1, 1), padding=(1, 1), bias=False)\n",
            "      (bn1): BatchNorm2d(256, eps=1e-05, momentum=0.1, affine=True, track_running_stats=True)\n",
            "      (relu): ReLU(inplace=True)\n",
            "      (conv2): Conv2d(256, 256, kernel_size=(3, 3), stride=(1, 1), padding=(1, 1), bias=False)\n",
            "      (bn2): BatchNorm2d(256, eps=1e-05, momentum=0.1, affine=True, track_running_stats=True)\n",
            "    )\n",
            "  )\n",
            "  (layer4): Sequential(\n",
            "    (0): BasicBlock(\n",
            "      (conv1): Conv2d(256, 512, kernel_size=(3, 3), stride=(2, 2), padding=(1, 1), bias=False)\n",
            "      (bn1): BatchNorm2d(512, eps=1e-05, momentum=0.1, affine=True, track_running_stats=True)\n",
            "      (relu): ReLU(inplace=True)\n",
            "      (conv2): Conv2d(512, 512, kernel_size=(3, 3), stride=(1, 1), padding=(1, 1), bias=False)\n",
            "      (bn2): BatchNorm2d(512, eps=1e-05, momentum=0.1, affine=True, track_running_stats=True)\n",
            "      (downsample): Sequential(\n",
            "        (0): Conv2d(256, 512, kernel_size=(1, 1), stride=(2, 2), bias=False)\n",
            "        (1): BatchNorm2d(512, eps=1e-05, momentum=0.1, affine=True, track_running_stats=True)\n",
            "      )\n",
            "    )\n",
            "    (1): BasicBlock(\n",
            "      (conv1): Conv2d(512, 512, kernel_size=(3, 3), stride=(1, 1), padding=(1, 1), bias=False)\n",
            "      (bn1): BatchNorm2d(512, eps=1e-05, momentum=0.1, affine=True, track_running_stats=True)\n",
            "      (relu): ReLU(inplace=True)\n",
            "      (conv2): Conv2d(512, 512, kernel_size=(3, 3), stride=(1, 1), padding=(1, 1), bias=False)\n",
            "      (bn2): BatchNorm2d(512, eps=1e-05, momentum=0.1, affine=True, track_running_stats=True)\n",
            "    )\n",
            "  )\n",
            "  (avgpool): AdaptiveAvgPool2d(output_size=(1, 1))\n",
            "  (fc): Linear(in_features=512, out_features=1000, bias=True)\n",
            ")\n"
          ],
          "name": "stdout"
        }
      ]
    },
    {
      "cell_type": "code",
      "metadata": {
        "id": "impLKFtDybpI",
        "colab_type": "code",
        "colab": {}
      },
      "source": [
        "resnet18.fc = torch.nn.Linear(in_features=512, out_features=3)\n",
        "loss_fn = torch.nn.CrossEntropyLoss()\n",
        "optimizer = torch.optim.Adam(resnet18.parameters(), lr=3e-5)"
      ],
      "execution_count": null,
      "outputs": []
    },
    {
      "cell_type": "code",
      "metadata": {
        "id": "bSOP87UfybpM",
        "colab_type": "code",
        "colab": {}
      },
      "source": [
        "def show_preds():\n",
        "  resnet18.eval()\n",
        "  images, labels = next(iter(dl_test))\n",
        "  outputs = resnet18(images)\n",
        "  _, preds = torch.max(outputs, 1)\n",
        "  show_images(images, labels, preds)"
      ],
      "execution_count": null,
      "outputs": []
    },
    {
      "cell_type": "code",
      "metadata": {
        "id": "ID_sM39oybpP",
        "colab_type": "code",
        "colab": {
          "base_uri": "https://localhost:8080/",
          "height": 109
        },
        "outputId": "902e9c45-6100-4ce5-8d88-cb026bc4375b"
      },
      "source": [
        "show_preds()"
      ],
      "execution_count": null,
      "outputs": [
        {
          "output_type": "display_data",
          "data": {
            "image/png": "[encoded data removed]",
            "text/plain": [
              "<Figure size 576x288 with 6 Axes>"
            ]
          },
          "metadata": {
            "tags": []
          }
        }
      ]
    },
    {
      "cell_type": "markdown",
      "metadata": {
        "id": "SmxeNEFiybpT",
        "colab_type": "text"
      },
      "source": [
        "# Training the Model"
      ]
    },
    {
      "cell_type": "code",
      "metadata": {
        "id": "IXJKiC1jybpT",
        "colab_type": "code",
        "colab": {}
      },
      "source": [
        "def train(epochs):\n",
        "  print('Starting training...')\n",
        "  for e in range(0, epochs):\n",
        "    print('-'*20)\n",
        "    print(f'Starting epoch {e+1}/{epochs}')\n",
        "    print('='*20)\n",
        "\n",
        "    train_loss = 0\n",
        "\n",
        "    resnet18.train()\n",
        "\n",
        "    for train_step, (images, labels) in enumerate(dl_train):\n",
        "      optimizer.zero_grad()\n",
        "      outputs = resnet18(images)\n",
        "      loss = loss_fn(outputs, labels)\n",
        "      loss.backward()\n",
        "      optimizer.step()\n",
        "      train_loss += loss.item()\n",
        "      if train_step % 20 == 0:\n",
        "        print('Evaluating at step', train_step)\n",
        "        acc = 0.\n",
        "        val_loss = 0.\n",
        "        resnet18.eval()\n",
        "\n",
        "        for val_step, (images, label) in enumerate(dl_test):\n",
        "          outputs = resnet18(images)\n",
        "          loss = loss_fn(outputs, labels)\n",
        "          val_loss += loss.item()\n",
        "\n",
        "          _, preds = torch.max(outputs, 1)\n",
        "          acc += sum((preds == labels).numpy())\n",
        "        val_loss /= (val_step + 1)\n",
        "        acc = acc / len(test_dataset)\n",
        "        print(f'Val loss: {val_loss:.4f}, Acc: {acc:.4f}')\n",
        "\n",
        "        resnet18.train()\n",
        "\n",
        "        if acc > 0.95:\n",
        "          print('Performance condition satisfied...')\n",
        "          return\n",
        "      train_loss /= (train_step + 1)\n",
        "      print(f'Training loss: {train_loss:.4f}')"
      ],
      "execution_count": null,
      "outputs": []
    },
    {
      "cell_type": "code",
      "metadata": {
        "id": "fFWPiDb_ybpW",
        "colab_type": "code",
        "colab": {
          "base_uri": "https://localhost:8080/",
          "height": 1000
        },
        "outputId": "0afcfdc1-3c8c-49d5-8ade-dfca3122611d"
      },
      "source": [
        "train(epochs=1)"
      ],
      "execution_count": null,
      "outputs": [
        {
          "output_type": "stream",
          "text": [
            "Starting training...\n",
            "--------------------\n",
            "Starting epoch 1/1\n",
            "====================\n",
            "Evaluating at step 0\n",
            "Val loss: 1.3294, Acc: 0.3222\n",
            "Training loss: 1.0081\n",
            "Training loss: 0.9688\n",
            "Training loss: 0.6619\n",
            "Training loss: 0.5032\n",
            "Training loss: 0.2521\n",
            "Training loss: 0.1844\n",
            "Training loss: 0.1332\n",
            "Training loss: 0.1035\n",
            "Training loss: 0.0982\n",
            "Training loss: 0.0511\n",
            "Training loss: 0.1091\n",
            "Training loss: 0.0942\n",
            "Training loss: 0.0601\n",
            "Training loss: 0.0440\n",
            "Training loss: 0.0320\n",
            "Training loss: 0.0395\n",
            "Training loss: 0.0608\n",
            "Training loss: 0.0395\n",
            "Training loss: 0.0238\n",
            "Training loss: 0.0297\n",
            "Evaluating at step 20\n",
            "Val loss: 1.3704, Acc: 0.2444\n",
            "Training loss: 0.0405\n",
            "Training loss: 0.0246\n",
            "Training loss: 0.0471\n",
            "Training loss: 0.0205\n",
            "Training loss: 0.0270\n",
            "Training loss: 0.0224\n",
            "Training loss: 0.0087\n",
            "Training loss: 0.0052\n",
            "Training loss: 0.0097\n",
            "Training loss: 0.0248\n",
            "Training loss: 0.0084\n",
            "Training loss: 0.0122\n",
            "Training loss: 0.0116\n",
            "Training loss: 0.0077\n",
            "Training loss: 0.0050\n",
            "Training loss: 0.0080\n",
            "Training loss: 0.0066\n",
            "Training loss: 0.0155\n",
            "Training loss: 0.0132\n",
            "Training loss: 0.0072\n",
            "Evaluating at step 40\n",
            "Val loss: 1.9135, Acc: 0.3778\n",
            "Training loss: 0.0104\n",
            "Training loss: 0.0159\n",
            "Training loss: 0.0070\n",
            "Training loss: 0.0022\n",
            "Training loss: 0.0070\n",
            "Training loss: 0.0080\n",
            "Training loss: 0.0054\n",
            "Training loss: 0.0043\n",
            "Training loss: 0.0033\n",
            "Training loss: 0.0091\n",
            "Training loss: 0.0038\n",
            "Training loss: 0.0064\n",
            "Training loss: 0.0082\n",
            "Training loss: 0.0041\n",
            "Training loss: 0.0022\n",
            "Training loss: 0.0157\n",
            "Training loss: 0.0200\n",
            "Training loss: 0.0111\n",
            "Training loss: 0.0033\n",
            "Training loss: 0.0074\n",
            "Evaluating at step 60\n",
            "Val loss: 2.8453, Acc: 0.3222\n",
            "Training loss: 0.0041\n",
            "Training loss: 0.0192\n",
            "Training loss: 0.0052\n",
            "Training loss: 0.0117\n",
            "Training loss: 0.0099\n",
            "Training loss: 0.0011\n",
            "Training loss: 0.0012\n",
            "Training loss: 0.0011\n",
            "Training loss: 0.0055\n",
            "Training loss: 0.0057\n",
            "Training loss: 0.0075\n",
            "Training loss: 0.0023\n",
            "Training loss: 0.0118\n",
            "Training loss: 0.0121\n",
            "Training loss: 0.0064\n",
            "Training loss: 0.0117\n",
            "Training loss: 0.0020\n",
            "Training loss: 0.0053\n",
            "Training loss: 0.0014\n",
            "Training loss: 0.0028\n",
            "Evaluating at step 80\n",
            "Val loss: 2.6172, Acc: 0.4222\n",
            "Training loss: 0.0015\n",
            "Training loss: 0.0025\n",
            "Training loss: 0.0043\n",
            "Training loss: 0.0042\n",
            "Training loss: 0.0041\n",
            "Training loss: 0.0076\n",
            "Training loss: 0.0060\n",
            "Training loss: 0.0008\n",
            "Training loss: 0.0018\n",
            "Training loss: 0.0015\n",
            "Training loss: 0.0029\n",
            "Training loss: 0.0020\n",
            "Training loss: 0.0072\n",
            "Training loss: 0.0034\n",
            "Training loss: 0.0065\n",
            "Training loss: 0.0037\n",
            "Training loss: 0.0046\n",
            "Training loss: 0.0017\n",
            "Training loss: 0.0010\n",
            "Training loss: 0.0055\n",
            "Evaluating at step 100\n",
            "Val loss: 3.3829, Acc: 0.2556\n",
            "Training loss: 0.0036\n",
            "Training loss: 0.0012\n",
            "Training loss: 0.0022\n",
            "Training loss: 0.0026\n",
            "Training loss: 0.0010\n",
            "Training loss: 0.0059\n",
            "Training loss: 0.0147\n",
            "Training loss: 0.0007\n",
            "Training loss: 0.0064\n",
            "Training loss: 0.0014\n",
            "Training loss: 0.0012\n",
            "Training loss: 0.0051\n",
            "Training loss: 0.0026\n",
            "Training loss: 0.0022\n",
            "Training loss: 0.0023\n",
            "Training loss: 0.0035\n",
            "Training loss: 0.0045\n",
            "Training loss: 0.0025\n",
            "Training loss: 0.0008\n",
            "Training loss: 0.0076\n",
            "Evaluating at step 120\n",
            "Val loss: 3.0599, Acc: 0.2333\n",
            "Training loss: 0.0008\n",
            "Training loss: 0.0010\n",
            "Training loss: 0.0021\n",
            "Training loss: 0.0040\n",
            "Training loss: 0.0006\n",
            "Training loss: 0.0006\n",
            "Training loss: 0.0017\n",
            "Training loss: 0.0011\n",
            "Training loss: 0.0006\n",
            "Training loss: 0.0055\n",
            "Training loss: 0.0022\n",
            "Training loss: 0.0018\n",
            "Training loss: 0.0003\n",
            "Training loss: 0.0007\n",
            "Training loss: 0.0072\n",
            "Training loss: 0.0010\n",
            "Training loss: 0.0004\n",
            "Training loss: 0.0055\n",
            "Training loss: 0.0006\n",
            "Training loss: 0.0017\n",
            "Evaluating at step 140\n",
            "Val loss: 2.5585, Acc: 0.4111\n",
            "Training loss: 0.0003\n",
            "Training loss: 0.0051\n",
            "Training loss: 0.0005\n",
            "Training loss: 0.0032\n",
            "Training loss: 0.0041\n",
            "Training loss: 0.0006\n",
            "Training loss: 0.0004\n",
            "Training loss: 0.0051\n",
            "Training loss: 0.0005\n",
            "Training loss: 0.0003\n",
            "Training loss: 0.0011\n",
            "Training loss: 0.0003\n",
            "Training loss: 0.0006\n",
            "Training loss: 0.0009\n",
            "Training loss: 0.0015\n",
            "Training loss: 0.0009\n",
            "Training loss: 0.0018\n",
            "Training loss: 0.0004\n",
            "Training loss: 0.0022\n",
            "Training loss: 0.0013\n",
            "Evaluating at step 160\n",
            "Val loss: 2.6692, Acc: 0.3889\n",
            "Training loss: 0.0006\n",
            "Training loss: 0.0012\n",
            "Training loss: 0.0017\n",
            "Training loss: 0.0007\n",
            "Training loss: 0.0016\n",
            "Training loss: 0.0005\n",
            "Training loss: 0.0013\n",
            "Training loss: 0.0001\n",
            "Training loss: 0.0006\n",
            "Training loss: 0.0007\n",
            "Training loss: 0.0004\n",
            "Training loss: 0.0004\n",
            "Training loss: 0.0013\n",
            "Training loss: 0.0008\n",
            "Training loss: 0.0002\n",
            "Training loss: 0.0009\n",
            "Training loss: 0.0004\n",
            "Training loss: 0.0003\n",
            "Training loss: 0.0002\n",
            "Training loss: 0.0030\n",
            "Evaluating at step 180\n",
            "Val loss: 3.0838, Acc: 0.3778\n",
            "Training loss: 0.0006\n",
            "Training loss: 0.0016\n",
            "Training loss: 0.0006\n",
            "Training loss: 0.0002\n",
            "Training loss: 0.0011\n",
            "Training loss: 0.0005\n",
            "Training loss: 0.0007\n",
            "Training loss: 0.0013\n",
            "Training loss: 0.0015\n",
            "Training loss: 0.0005\n",
            "Training loss: 0.0026\n",
            "Training loss: 0.0026\n",
            "Training loss: 0.0017\n",
            "Training loss: 0.0007\n",
            "Training loss: 0.0004\n",
            "Training loss: 0.0008\n",
            "Training loss: 0.0007\n",
            "Training loss: 0.0007\n",
            "Training loss: 0.0008\n",
            "Training loss: 0.0015\n",
            "Evaluating at step 200\n",
            "Val loss: 3.4952, Acc: 0.3333\n",
            "Training loss: 0.0017\n",
            "Training loss: 0.0025\n",
            "Training loss: 0.0036\n",
            "Training loss: 0.0002\n",
            "Training loss: 0.0001\n",
            "Training loss: 0.0057\n",
            "Training loss: 0.0001\n",
            "Training loss: 0.0010\n",
            "Training loss: 0.0023\n",
            "Training loss: 0.0012\n",
            "Training loss: 0.0005\n",
            "Training loss: 0.0026\n",
            "Training loss: 0.0018\n",
            "Training loss: 0.0002\n",
            "Training loss: 0.0001\n",
            "Training loss: 0.0007\n",
            "Training loss: 0.0005\n",
            "Training loss: 0.0006\n",
            "Training loss: 0.0009\n",
            "Training loss: 0.0002\n",
            "Evaluating at step 220\n",
            "Val loss: 4.0887, Acc: 0.2778\n",
            "Training loss: 0.0037\n",
            "Training loss: 0.0002\n",
            "Training loss: 0.0007\n",
            "Training loss: 0.0018\n",
            "Training loss: 0.0031\n",
            "Training loss: 0.0008\n",
            "Training loss: 0.0001\n",
            "Training loss: 0.0003\n",
            "Training loss: 0.0006\n",
            "Training loss: 0.0003\n",
            "Training loss: 0.0021\n",
            "Training loss: 0.0003\n",
            "Training loss: 0.0007\n",
            "Training loss: 0.0001\n",
            "Training loss: 0.0009\n",
            "Training loss: 0.0004\n",
            "Training loss: 0.0001\n",
            "Training loss: 0.0001\n",
            "Training loss: 0.0016\n",
            "Training loss: 0.0008\n",
            "Evaluating at step 240\n",
            "Val loss: 3.8919, Acc: 0.3889\n",
            "Training loss: 0.0021\n",
            "Training loss: 0.0004\n",
            "Training loss: 0.0004\n",
            "Training loss: 0.0010\n",
            "Training loss: 0.0006\n",
            "Training loss: 0.0001\n",
            "Training loss: 0.0023\n",
            "Training loss: 0.0003\n",
            "Training loss: 0.0004\n",
            "Training loss: 0.0002\n",
            "Training loss: 0.0002\n",
            "Training loss: 0.0020\n",
            "Training loss: 0.0009\n",
            "Training loss: 0.0002\n",
            "Training loss: 0.0001\n",
            "Training loss: 0.0005\n",
            "Training loss: 0.0024\n",
            "Training loss: 0.0012\n",
            "Training loss: 0.0009\n",
            "Training loss: 0.0002\n",
            "Evaluating at step 260\n",
            "Val loss: 3.6391, Acc: 0.3222\n",
            "Training loss: 0.0001\n",
            "Training loss: 0.0002\n",
            "Training loss: 0.0016\n",
            "Training loss: 0.0011\n",
            "Training loss: 0.0042\n",
            "Training loss: 0.0008\n",
            "Training loss: 0.0002\n",
            "Training loss: 0.0001\n",
            "Training loss: 0.0007\n",
            "Training loss: 0.0001\n",
            "Training loss: 0.0007\n",
            "Training loss: 0.0002\n",
            "Training loss: 0.0001\n",
            "Training loss: 0.0030\n",
            "Training loss: 0.0001\n",
            "Training loss: 0.0005\n",
            "Training loss: 0.0002\n",
            "Training loss: 0.0000\n",
            "Training loss: 0.0004\n",
            "Training loss: 0.0003\n",
            "Evaluating at step 280\n",
            "Val loss: 3.4295, Acc: 0.3111\n",
            "Training loss: 0.0020\n",
            "Training loss: 0.0018\n",
            "Training loss: 0.0001\n",
            "Training loss: 0.0002\n",
            "Training loss: 0.0001\n",
            "Training loss: 0.0011\n",
            "Training loss: 0.0001\n",
            "Training loss: 0.0001\n",
            "Training loss: 0.0005\n",
            "Training loss: 0.0001\n",
            "Training loss: 0.0001\n",
            "Training loss: 0.0001\n",
            "Training loss: 0.0001\n",
            "Training loss: 0.0005\n",
            "Training loss: 0.0002\n",
            "Training loss: 0.0008\n",
            "Training loss: 0.0001\n",
            "Training loss: 0.0000\n",
            "Training loss: 0.0011\n",
            "Training loss: 0.0006\n",
            "Evaluating at step 300\n",
            "Val loss: 3.8274, Acc: 0.3222\n",
            "Training loss: 0.0005\n",
            "Training loss: 0.0007\n",
            "Training loss: 0.0001\n",
            "Training loss: 0.0003\n",
            "Training loss: 0.0001\n",
            "Training loss: 0.0004\n",
            "Training loss: 0.0005\n",
            "Training loss: 0.0001\n",
            "Training loss: 0.0001\n",
            "Training loss: 0.0003\n",
            "Training loss: 0.0006\n",
            "Training loss: 0.0007\n",
            "Training loss: 0.0001\n",
            "Training loss: 0.0001\n",
            "Training loss: 0.0001\n",
            "Training loss: 0.0013\n",
            "Training loss: 0.0001\n",
            "Training loss: 0.0001\n",
            "Training loss: 0.0000\n",
            "Training loss: 0.0001\n",
            "Evaluating at step 320\n",
            "Val loss: 3.5054, Acc: 0.3889\n",
            "Training loss: 0.0002\n",
            "Training loss: 0.0006\n",
            "Training loss: 0.0001\n",
            "Training loss: 0.0001\n",
            "Training loss: 0.0001\n",
            "Training loss: 0.0001\n",
            "Training loss: 0.0018\n",
            "Training loss: 0.0000\n",
            "Training loss: 0.0019\n",
            "Training loss: 0.0001\n",
            "Training loss: 0.0001\n",
            "Training loss: 0.0003\n",
            "Training loss: 0.0001\n",
            "Training loss: 0.0004\n",
            "Training loss: 0.0012\n",
            "Training loss: 0.0003\n",
            "Training loss: 0.0013\n",
            "Training loss: 0.0001\n",
            "Training loss: 0.0001\n",
            "Training loss: 0.0016\n",
            "Evaluating at step 340\n",
            "Val loss: 4.7880, Acc: 0.3000\n",
            "Training loss: 0.0005\n",
            "Training loss: 0.0012\n",
            "Training loss: 0.0001\n",
            "Training loss: 0.0005\n",
            "Training loss: 0.0006\n",
            "Training loss: 0.0000\n",
            "Training loss: 0.0006\n",
            "Training loss: 0.0003\n",
            "Training loss: 0.0001\n",
            "Training loss: 0.0001\n",
            "Training loss: 0.0003\n",
            "Training loss: 0.0009\n",
            "Training loss: 0.0004\n",
            "Training loss: 0.0002\n",
            "Training loss: 0.0005\n",
            "Training loss: 0.0000\n",
            "Training loss: 0.0003\n",
            "Training loss: 0.0000\n",
            "Training loss: 0.0017\n",
            "Training loss: 0.0005\n",
            "Evaluating at step 360\n",
            "Val loss: 4.2120, Acc: 0.3889\n",
            "Training loss: 0.0003\n",
            "Training loss: 0.0004\n",
            "Training loss: 0.0006\n",
            "Training loss: 0.0006\n",
            "Training loss: 0.0000\n",
            "Training loss: 0.0015\n",
            "Training loss: 0.0003\n",
            "Training loss: 0.0002\n",
            "Training loss: 0.0004\n",
            "Training loss: 0.0027\n",
            "Training loss: 0.0001\n",
            "Training loss: 0.0002\n",
            "Training loss: 0.0004\n",
            "Training loss: 0.0011\n",
            "Training loss: 0.0002\n",
            "Training loss: 0.0000\n",
            "Training loss: 0.0010\n",
            "Training loss: 0.0005\n",
            "Training loss: 0.0001\n",
            "Training loss: 0.0001\n",
            "Evaluating at step 380\n",
            "Val loss: 3.9429, Acc: 0.3667\n",
            "Training loss: 0.0006\n",
            "Training loss: 0.0006\n",
            "Training loss: 0.0009\n",
            "Training loss: 0.0001\n",
            "Training loss: 0.0004\n",
            "Training loss: 0.0003\n",
            "Training loss: 0.0004\n",
            "Training loss: 0.0011\n",
            "Training loss: 0.0006\n",
            "Training loss: 0.0006\n",
            "Training loss: 0.0000\n",
            "Training loss: 0.0001\n",
            "Training loss: 0.0001\n",
            "Training loss: 0.0001\n",
            "Training loss: 0.0000\n",
            "Training loss: 0.0007\n",
            "Training loss: 0.0003\n",
            "Training loss: 0.0005\n",
            "Training loss: 0.0003\n",
            "Training loss: 0.0006\n",
            "Evaluating at step 400\n",
            "Val loss: 3.3784, Acc: 0.4000\n",
            "Training loss: 0.0000\n",
            "Training loss: 0.0002\n",
            "Training loss: 0.0005\n",
            "Training loss: 0.0008\n",
            "Training loss: 0.0001\n",
            "Training loss: 0.0003\n",
            "Training loss: 0.0003\n",
            "Training loss: 0.0000\n",
            "Training loss: 0.0008\n",
            "Training loss: 0.0003\n",
            "Training loss: 0.0023\n",
            "Training loss: 0.0001\n",
            "Training loss: 0.0001\n",
            "Training loss: 0.0021\n",
            "Training loss: 0.0005\n",
            "Training loss: 0.0001\n",
            "Training loss: 0.0000\n",
            "Training loss: 0.0002\n",
            "Training loss: 0.0003\n",
            "Training loss: 0.0000\n",
            "Evaluating at step 420\n",
            "Val loss: 4.7212, Acc: 0.3444\n",
            "Training loss: 0.0001\n",
            "Training loss: 0.0006\n",
            "Training loss: 0.0026\n",
            "Training loss: 0.0000\n",
            "Training loss: 0.0000\n",
            "Training loss: 0.0002\n",
            "Training loss: 0.0004\n",
            "Training loss: 0.0002\n",
            "Training loss: 0.0001\n",
            "Training loss: 0.0007\n",
            "Training loss: 0.0008\n",
            "Training loss: 0.0006\n",
            "Training loss: 0.0022\n",
            "Training loss: 0.0000\n",
            "Training loss: 0.0012\n",
            "Training loss: 0.0009\n",
            "Training loss: 0.0000\n",
            "Training loss: 0.0001\n",
            "Training loss: 0.0001\n",
            "Training loss: 0.0003\n",
            "Evaluating at step 440\n",
            "Val loss: 4.3928, Acc: 0.3000\n",
            "Training loss: 0.0002\n",
            "Training loss: 0.0015\n",
            "Training loss: 0.0007\n",
            "Training loss: 0.0001\n",
            "Training loss: 0.0003\n",
            "Training loss: 0.0001\n",
            "Training loss: 0.0005\n",
            "Training loss: 0.0003\n",
            "Training loss: 0.0003\n",
            "Training loss: 0.0001\n",
            "Training loss: 0.0051\n",
            "Training loss: 0.0002\n",
            "Training loss: 0.0003\n",
            "Training loss: 0.0004\n",
            "Training loss: 0.0003\n",
            "Training loss: 0.0010\n",
            "Training loss: 0.0004\n",
            "Training loss: 0.0002\n",
            "Training loss: 0.0001\n",
            "Training loss: 0.0001\n",
            "Evaluating at step 460\n",
            "Val loss: 3.9451, Acc: 0.3333\n",
            "Training loss: 0.0001\n",
            "Training loss: 0.0001\n",
            "Training loss: 0.0006\n",
            "Training loss: 0.0001\n",
            "Training loss: 0.0001\n",
            "Training loss: 0.0001\n",
            "Training loss: 0.0001\n",
            "Training loss: 0.0003\n",
            "Training loss: 0.0004\n",
            "Training loss: 0.0023\n"
          ],
          "name": "stdout"
        }
      ]
    },
    {
      "cell_type": "markdown",
      "metadata": {
        "id": "EDo-SA9UybpZ",
        "colab_type": "text"
      },
      "source": [
        "# Final Results"
      ]
    },
    {
      "cell_type": "code",
      "metadata": {
        "id": "eLY8Rm2BybpZ",
        "colab_type": "code",
        "colab": {
          "base_uri": "https://localhost:8080/",
          "height": 109
        },
        "outputId": "f1097dc4-f10e-4b21-ddbd-a0632a317481"
      },
      "source": [
        "show_preds()"
      ],
      "execution_count": null,
      "outputs": [
        {
          "output_type": "display_data",
          "data": {
            "image/png": "[encoded data removed]",
            "text/plain": [
              "<Figure size 576x288 with 6 Axes>"
            ]
          },
          "metadata": {
            "tags": []
          }
        }
      ]
    },
    {
      "cell_type": "code",
      "metadata": {
        "id": "KDBj5nNlybpd",
        "colab_type": "code",
        "colab": {}
      },
      "source": [
        ""
      ],
      "execution_count": null,
      "outputs": []
    }
  ]
}